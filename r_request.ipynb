{
 "cells": [
  {
   "cell_type": "code",
   "execution_count": 9,
   "metadata": {},
   "outputs": [
    {
     "name": "stderr",
     "output_type": "stream",
     "text": [
      "Parsed with column specification:\n",
      "cols(\n",
      "  `Artist ID` = \u001b[32mcol_double()\u001b[39m,\n",
      "  Name = \u001b[31mcol_character()\u001b[39m,\n",
      "  Nationality = \u001b[31mcol_character()\u001b[39m,\n",
      "  Gender = \u001b[31mcol_character()\u001b[39m,\n",
      "  `Birth Year` = \u001b[32mcol_double()\u001b[39m,\n",
      "  `Death Year` = \u001b[32mcol_double()\u001b[39m\n",
      ")\n",
      "\n",
      "Parsed with column specification:\n",
      "cols(\n",
      "  .default = col_character(),\n",
      "  `Artwork ID` = \u001b[32mcol_double()\u001b[39m,\n",
      "  `Acquisition Date` = \u001b[34mcol_date(format = \"\")\u001b[39m,\n",
      "  `Diameter (cm)` = \u001b[32mcol_double()\u001b[39m,\n",
      "  `Circumference (cm)` = \u001b[33mcol_logical()\u001b[39m,\n",
      "  `Height (cm)` = \u001b[32mcol_double()\u001b[39m,\n",
      "  `Length (cm)` = \u001b[33mcol_logical()\u001b[39m,\n",
      "  `Width (cm)` = \u001b[32mcol_double()\u001b[39m,\n",
      "  `Depth (cm)` = \u001b[32mcol_double()\u001b[39m,\n",
      "  `Weight (kg)` = \u001b[32mcol_double()\u001b[39m,\n",
      "  `Duration (s)` = \u001b[33mcol_logical()\u001b[39m\n",
      ")\n",
      "\n",
      "See spec(...) for full column specifications.\n",
      "\n"
     ]
    }
   ],
   "source": [
    "options(warn=-1)\n",
    "library(dplyr)\n",
    "library(tidyr)\n",
    "library(readr)\n",
    "library(ggplot2)\n",
    "path=\"/Users/Aurelien/Desktop/test_jolimoi/data/\"\n",
    "setwd(path)\n",
    "\n",
    "artists <- read_csv(\"artists.csv\")\n",
    "artworks <- read_csv(\"artworks.csv\")\n"
   ]
  },
  {
   "cell_type": "code",
   "execution_count": 2,
   "metadata": {},
   "outputs": [
    {
     "ename": "ERROR",
     "evalue": "Error in artworks %>% mutate(`Artist ID` = as.numeric(`Artist ID`)): impossible de trouver la fonction \"%>%\"\n",
     "output_type": "error",
     "traceback": [
      "Error in artworks %>% mutate(`Artist ID` = as.numeric(`Artist ID`)): impossible de trouver la fonction \"%>%\"\nTraceback:\n"
     ]
    }
   ],
   "source": [
    "# Did any artists have artwork acquired during their lifetime? ?\n",
    "\n",
    "# convert Artist ID as a double\n",
    "artworks <- artworks %>%\n",
    "  mutate(`Artist ID`=as.numeric(`Artist ID`))\n",
    "\n",
    "df1 <- left_join(select(artworks,\"Artwork ID\",\"Artist ID\",\"Date\",\"Acquisition Date\"),artists, by=\"Artist ID\")\n",
    "\n",
    "# keep only the year from Acquisition Date\n",
    "df1 <- df1 %>%\n",
    "  mutate(`Acquisition Date` = as.character(`Acquisition Date`)) %>%\n",
    "  mutate(`Acquisition Date`= sapply(strsplit(`Acquisition Date`,\"-\"), function(x) x[1])) %>%\n",
    "  mutate(`Acquisition Date`=as.numeric(`Acquisition Date`))\n",
    "\n",
    "\n",
    "# 3 different cases\n",
    "# if the artist is not dead -> true\n",
    "# if the artist is dead : - if acquisition date <= death year -> true\n",
    "#                         - else -> false\n",
    "                                    \n",
    "df1 <- df1 %>% \n",
    "  filter(is.na(`Acquisition Date`)==FALSE)%>%\n",
    "  mutate( acquis = case_when( is.na(`Death Year`) == TRUE ~ 1,\n",
    "                              is.na(`Death Year`) == FALSE & `Death Year`>=`Acquisition Date` ~ 1,\n",
    "                              is.na(`Death Year`) == FALSE & `Death Year`<`Acquisition Date` ~ 0)) %>%\n",
    "  filter(acquis==1)%>%\n",
    "  distinct(Name) %>%\n",
    "  arrange(Name)\n",
    "\n",
    "\n",
    "df1"
   ]
  },
  {
   "cell_type": "code",
   "execution_count": null,
   "metadata": {},
   "outputs": [],
   "source": []
  }
 ],
 "metadata": {
  "kernelspec": {
   "display_name": "R",
   "language": "R",
   "name": "ir"
  },
  "language_info": {
   "codemirror_mode": "r",
   "file_extension": ".r",
   "mimetype": "text/x-r-source",
   "name": "R",
   "pygments_lexer": "r",
   "version": "4.0.0"
  }
 },
 "nbformat": 4,
 "nbformat_minor": 4
}
